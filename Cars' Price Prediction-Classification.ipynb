{
 "cells": [
  {
   "cell_type": "markdown",
   "id": "cc767d42-0c8c-408d-94a8-adb8a0acbed6",
   "metadata": {},
   "source": [
    "# Car's Price Prediction-Classification"
   ]
  },
  {
   "cell_type": "markdown",
   "id": "54aadf7b-66b3-40eb-bb17-a98db983f890",
   "metadata": {},
   "source": [
    "## Importing needed libraries "
   ]
  },
  {
   "cell_type": "code",
   "execution_count": 327,
   "id": "44fc09f0-7051-4750-8b65-727343e8ab75",
   "metadata": {},
   "outputs": [],
   "source": [
    "import pandas as pd\n",
    "import numpy as np\n",
    "import seaborn as sns\n",
    "import matplotlib.pyplot as plt\n"
   ]
  },
  {
   "cell_type": "code",
   "execution_count": 328,
   "id": "25208f80-938c-447c-bdc4-343a9459d6c9",
   "metadata": {},
   "outputs": [],
   "source": [
    "df = pd.read_csv(r\"G:\\Other computers\\My old laptop\\Desktop\\;\\Data Science\\Data Science Projects\\Car price preditiction -classification\\car_price_prediction.csv\")"
   ]
  },
  {
   "cell_type": "code",
   "execution_count": 329,
   "id": "23e451bf-e3bd-471b-8d12-a95775562247",
   "metadata": {},
   "outputs": [
    {
     "data": {
      "text/html": [
       "<div>\n",
       "<style scoped>\n",
       "    .dataframe tbody tr th:only-of-type {\n",
       "        vertical-align: middle;\n",
       "    }\n",
       "\n",
       "    .dataframe tbody tr th {\n",
       "        vertical-align: top;\n",
       "    }\n",
       "\n",
       "    .dataframe thead th {\n",
       "        text-align: right;\n",
       "    }\n",
       "</style>\n",
       "<table border=\"1\" class=\"dataframe\">\n",
       "  <thead>\n",
       "    <tr style=\"text-align: right;\">\n",
       "      <th></th>\n",
       "      <th>ID</th>\n",
       "      <th>Price</th>\n",
       "      <th>Levy</th>\n",
       "      <th>Manufacturer</th>\n",
       "      <th>Model</th>\n",
       "      <th>Prod. year</th>\n",
       "      <th>Category</th>\n",
       "      <th>Leather interior</th>\n",
       "      <th>Fuel type</th>\n",
       "      <th>Engine volume</th>\n",
       "      <th>Mileage</th>\n",
       "      <th>Cylinders</th>\n",
       "      <th>Gear box type</th>\n",
       "      <th>Drive wheels</th>\n",
       "      <th>Doors</th>\n",
       "      <th>Wheel</th>\n",
       "      <th>Color</th>\n",
       "      <th>Airbags</th>\n",
       "    </tr>\n",
       "  </thead>\n",
       "  <tbody>\n",
       "    <tr>\n",
       "      <th>0</th>\n",
       "      <td>45654403</td>\n",
       "      <td>13328</td>\n",
       "      <td>1399</td>\n",
       "      <td>LEXUS</td>\n",
       "      <td>RX 450</td>\n",
       "      <td>2010</td>\n",
       "      <td>Jeep</td>\n",
       "      <td>Yes</td>\n",
       "      <td>Hybrid</td>\n",
       "      <td>3.5</td>\n",
       "      <td>186005 km</td>\n",
       "      <td>6.0</td>\n",
       "      <td>Automatic</td>\n",
       "      <td>4x4</td>\n",
       "      <td>04-May</td>\n",
       "      <td>Left wheel</td>\n",
       "      <td>Silver</td>\n",
       "      <td>12</td>\n",
       "    </tr>\n",
       "    <tr>\n",
       "      <th>1</th>\n",
       "      <td>44731507</td>\n",
       "      <td>16621</td>\n",
       "      <td>1018</td>\n",
       "      <td>CHEVROLET</td>\n",
       "      <td>Equinox</td>\n",
       "      <td>2011</td>\n",
       "      <td>Jeep</td>\n",
       "      <td>No</td>\n",
       "      <td>Petrol</td>\n",
       "      <td>3</td>\n",
       "      <td>192000 km</td>\n",
       "      <td>6.0</td>\n",
       "      <td>Tiptronic</td>\n",
       "      <td>4x4</td>\n",
       "      <td>04-May</td>\n",
       "      <td>Left wheel</td>\n",
       "      <td>Black</td>\n",
       "      <td>8</td>\n",
       "    </tr>\n",
       "    <tr>\n",
       "      <th>2</th>\n",
       "      <td>45774419</td>\n",
       "      <td>8467</td>\n",
       "      <td>-</td>\n",
       "      <td>HONDA</td>\n",
       "      <td>FIT</td>\n",
       "      <td>2006</td>\n",
       "      <td>Hatchback</td>\n",
       "      <td>No</td>\n",
       "      <td>Petrol</td>\n",
       "      <td>1.3</td>\n",
       "      <td>200000 km</td>\n",
       "      <td>4.0</td>\n",
       "      <td>Variator</td>\n",
       "      <td>Front</td>\n",
       "      <td>04-May</td>\n",
       "      <td>Right-hand drive</td>\n",
       "      <td>Black</td>\n",
       "      <td>2</td>\n",
       "    </tr>\n",
       "    <tr>\n",
       "      <th>3</th>\n",
       "      <td>45769185</td>\n",
       "      <td>3607</td>\n",
       "      <td>862</td>\n",
       "      <td>FORD</td>\n",
       "      <td>Escape</td>\n",
       "      <td>2011</td>\n",
       "      <td>Jeep</td>\n",
       "      <td>Yes</td>\n",
       "      <td>Hybrid</td>\n",
       "      <td>2.5</td>\n",
       "      <td>168966 km</td>\n",
       "      <td>4.0</td>\n",
       "      <td>Automatic</td>\n",
       "      <td>4x4</td>\n",
       "      <td>04-May</td>\n",
       "      <td>Left wheel</td>\n",
       "      <td>White</td>\n",
       "      <td>0</td>\n",
       "    </tr>\n",
       "    <tr>\n",
       "      <th>4</th>\n",
       "      <td>45809263</td>\n",
       "      <td>11726</td>\n",
       "      <td>446</td>\n",
       "      <td>HONDA</td>\n",
       "      <td>FIT</td>\n",
       "      <td>2014</td>\n",
       "      <td>Hatchback</td>\n",
       "      <td>Yes</td>\n",
       "      <td>Petrol</td>\n",
       "      <td>1.3</td>\n",
       "      <td>91901 km</td>\n",
       "      <td>4.0</td>\n",
       "      <td>Automatic</td>\n",
       "      <td>Front</td>\n",
       "      <td>04-May</td>\n",
       "      <td>Left wheel</td>\n",
       "      <td>Silver</td>\n",
       "      <td>4</td>\n",
       "    </tr>\n",
       "  </tbody>\n",
       "</table>\n",
       "</div>"
      ],
      "text/plain": [
       "         ID  Price  Levy Manufacturer    Model  Prod. year   Category  \\\n",
       "0  45654403  13328  1399        LEXUS   RX 450        2010       Jeep   \n",
       "1  44731507  16621  1018    CHEVROLET  Equinox        2011       Jeep   \n",
       "2  45774419   8467     -        HONDA      FIT        2006  Hatchback   \n",
       "3  45769185   3607   862         FORD   Escape        2011       Jeep   \n",
       "4  45809263  11726   446        HONDA      FIT        2014  Hatchback   \n",
       "\n",
       "  Leather interior Fuel type Engine volume    Mileage  Cylinders  \\\n",
       "0              Yes    Hybrid           3.5  186005 km        6.0   \n",
       "1               No    Petrol             3  192000 km        6.0   \n",
       "2               No    Petrol           1.3  200000 km        4.0   \n",
       "3              Yes    Hybrid           2.5  168966 km        4.0   \n",
       "4              Yes    Petrol           1.3   91901 km        4.0   \n",
       "\n",
       "  Gear box type Drive wheels   Doors             Wheel   Color  Airbags  \n",
       "0     Automatic          4x4  04-May        Left wheel  Silver       12  \n",
       "1     Tiptronic          4x4  04-May        Left wheel   Black        8  \n",
       "2      Variator        Front  04-May  Right-hand drive   Black        2  \n",
       "3     Automatic          4x4  04-May        Left wheel   White        0  \n",
       "4     Automatic        Front  04-May        Left wheel  Silver        4  "
      ]
     },
     "execution_count": 329,
     "metadata": {},
     "output_type": "execute_result"
    }
   ],
   "source": [
    "df.head(5)"
   ]
  },
  {
   "cell_type": "code",
   "execution_count": 330,
   "id": "7bfe4e99-43a3-40fe-9bdf-f4ebca749801",
   "metadata": {},
   "outputs": [
    {
     "data": {
      "text/plain": [
       "(19237, 18)"
      ]
     },
     "execution_count": 330,
     "metadata": {},
     "output_type": "execute_result"
    }
   ],
   "source": [
    "df.shape"
   ]
  },
  {
   "cell_type": "code",
   "execution_count": 331,
   "id": "c5be502c-40d9-4917-a590-a0abb7af29b3",
   "metadata": {},
   "outputs": [
    {
     "name": "stdout",
     "output_type": "stream",
     "text": [
      "<class 'pandas.core.frame.DataFrame'>\n",
      "RangeIndex: 19237 entries, 0 to 19236\n",
      "Data columns (total 18 columns):\n",
      " #   Column            Non-Null Count  Dtype  \n",
      "---  ------            --------------  -----  \n",
      " 0   ID                19237 non-null  int64  \n",
      " 1   Price             19237 non-null  int64  \n",
      " 2   Levy              19237 non-null  object \n",
      " 3   Manufacturer      19237 non-null  object \n",
      " 4   Model             19237 non-null  object \n",
      " 5   Prod. year        19237 non-null  int64  \n",
      " 6   Category          19237 non-null  object \n",
      " 7   Leather interior  19237 non-null  object \n",
      " 8   Fuel type         19237 non-null  object \n",
      " 9   Engine volume     19237 non-null  object \n",
      " 10  Mileage           19237 non-null  object \n",
      " 11  Cylinders         19237 non-null  float64\n",
      " 12  Gear box type     19237 non-null  object \n",
      " 13  Drive wheels      19237 non-null  object \n",
      " 14  Doors             19237 non-null  object \n",
      " 15  Wheel             19237 non-null  object \n",
      " 16  Color             19237 non-null  object \n",
      " 17  Airbags           19237 non-null  int64  \n",
      "dtypes: float64(1), int64(4), object(13)\n",
      "memory usage: 2.6+ MB\n"
     ]
    }
   ],
   "source": [
    "df.info()"
   ]
  },
  {
   "cell_type": "code",
   "execution_count": 332,
   "id": "6910e00a-aa88-47e6-98d1-b3eec4fd9279",
   "metadata": {},
   "outputs": [
    {
     "data": {
      "text/plain": [
       "ID                  0\n",
       "Price               0\n",
       "Levy                0\n",
       "Manufacturer        0\n",
       "Model               0\n",
       "Prod. year          0\n",
       "Category            0\n",
       "Leather interior    0\n",
       "Fuel type           0\n",
       "Engine volume       0\n",
       "Mileage             0\n",
       "Cylinders           0\n",
       "Gear box type       0\n",
       "Drive wheels        0\n",
       "Doors               0\n",
       "Wheel               0\n",
       "Color               0\n",
       "Airbags             0\n",
       "dtype: int64"
      ]
     },
     "execution_count": 332,
     "metadata": {},
     "output_type": "execute_result"
    }
   ],
   "source": [
    "df.isnull().sum()"
   ]
  },
  {
   "cell_type": "code",
   "execution_count": 333,
   "id": "c81a7167-5f20-4cbe-8cd7-9fe1da624e39",
   "metadata": {},
   "outputs": [
    {
     "data": {
      "text/html": [
       "<div>\n",
       "<style scoped>\n",
       "    .dataframe tbody tr th:only-of-type {\n",
       "        vertical-align: middle;\n",
       "    }\n",
       "\n",
       "    .dataframe tbody tr th {\n",
       "        vertical-align: top;\n",
       "    }\n",
       "\n",
       "    .dataframe thead th {\n",
       "        text-align: right;\n",
       "    }\n",
       "</style>\n",
       "<table border=\"1\" class=\"dataframe\">\n",
       "  <thead>\n",
       "    <tr style=\"text-align: right;\">\n",
       "      <th></th>\n",
       "      <th>ID</th>\n",
       "      <th>Price</th>\n",
       "      <th>Prod. year</th>\n",
       "      <th>Cylinders</th>\n",
       "      <th>Airbags</th>\n",
       "    </tr>\n",
       "  </thead>\n",
       "  <tbody>\n",
       "    <tr>\n",
       "      <th>count</th>\n",
       "      <td>1.923700e+04</td>\n",
       "      <td>1.923700e+04</td>\n",
       "      <td>19237.000000</td>\n",
       "      <td>19237.000000</td>\n",
       "      <td>19237.000000</td>\n",
       "    </tr>\n",
       "    <tr>\n",
       "      <th>mean</th>\n",
       "      <td>4.557654e+07</td>\n",
       "      <td>1.855593e+04</td>\n",
       "      <td>2010.912824</td>\n",
       "      <td>4.582991</td>\n",
       "      <td>6.582627</td>\n",
       "    </tr>\n",
       "    <tr>\n",
       "      <th>std</th>\n",
       "      <td>9.365914e+05</td>\n",
       "      <td>1.905813e+05</td>\n",
       "      <td>5.668673</td>\n",
       "      <td>1.199933</td>\n",
       "      <td>4.320168</td>\n",
       "    </tr>\n",
       "    <tr>\n",
       "      <th>min</th>\n",
       "      <td>2.074688e+07</td>\n",
       "      <td>1.000000e+00</td>\n",
       "      <td>1939.000000</td>\n",
       "      <td>1.000000</td>\n",
       "      <td>0.000000</td>\n",
       "    </tr>\n",
       "    <tr>\n",
       "      <th>25%</th>\n",
       "      <td>4.569837e+07</td>\n",
       "      <td>5.331000e+03</td>\n",
       "      <td>2009.000000</td>\n",
       "      <td>4.000000</td>\n",
       "      <td>4.000000</td>\n",
       "    </tr>\n",
       "    <tr>\n",
       "      <th>50%</th>\n",
       "      <td>4.577231e+07</td>\n",
       "      <td>1.317200e+04</td>\n",
       "      <td>2012.000000</td>\n",
       "      <td>4.000000</td>\n",
       "      <td>6.000000</td>\n",
       "    </tr>\n",
       "    <tr>\n",
       "      <th>75%</th>\n",
       "      <td>4.580204e+07</td>\n",
       "      <td>2.207500e+04</td>\n",
       "      <td>2015.000000</td>\n",
       "      <td>4.000000</td>\n",
       "      <td>12.000000</td>\n",
       "    </tr>\n",
       "    <tr>\n",
       "      <th>max</th>\n",
       "      <td>4.581665e+07</td>\n",
       "      <td>2.630750e+07</td>\n",
       "      <td>2020.000000</td>\n",
       "      <td>16.000000</td>\n",
       "      <td>16.000000</td>\n",
       "    </tr>\n",
       "  </tbody>\n",
       "</table>\n",
       "</div>"
      ],
      "text/plain": [
       "                 ID         Price    Prod. year     Cylinders       Airbags\n",
       "count  1.923700e+04  1.923700e+04  19237.000000  19237.000000  19237.000000\n",
       "mean   4.557654e+07  1.855593e+04   2010.912824      4.582991      6.582627\n",
       "std    9.365914e+05  1.905813e+05      5.668673      1.199933      4.320168\n",
       "min    2.074688e+07  1.000000e+00   1939.000000      1.000000      0.000000\n",
       "25%    4.569837e+07  5.331000e+03   2009.000000      4.000000      4.000000\n",
       "50%    4.577231e+07  1.317200e+04   2012.000000      4.000000      6.000000\n",
       "75%    4.580204e+07  2.207500e+04   2015.000000      4.000000     12.000000\n",
       "max    4.581665e+07  2.630750e+07   2020.000000     16.000000     16.000000"
      ]
     },
     "execution_count": 333,
     "metadata": {},
     "output_type": "execute_result"
    }
   ],
   "source": [
    "df.describe()"
   ]
  },
  {
   "cell_type": "code",
   "execution_count": 334,
   "id": "64485cc0-3d82-416a-b89f-0bdf7bbacc03",
   "metadata": {},
   "outputs": [
    {
     "data": {
      "text/plain": [
       "313"
      ]
     },
     "execution_count": 334,
     "metadata": {},
     "output_type": "execute_result"
    }
   ],
   "source": [
    "df.duplicated().sum()"
   ]
  },
  {
   "cell_type": "code",
   "execution_count": 335,
   "id": "07b867ab-53f7-4679-9774-84ea13561a40",
   "metadata": {},
   "outputs": [],
   "source": [
    "df = df.drop_duplicates()"
   ]
  },
  {
   "cell_type": "markdown",
   "id": "393eb961-00a5-4c24-895a-22dfcfaa8a54",
   "metadata": {},
   "source": [
    "# Data Analysis"
   ]
  },
  {
   "cell_type": "code",
   "execution_count": 337,
   "id": "f5265bc9-4ac7-4c46-b5b8-900fd2385c89",
   "metadata": {},
   "outputs": [
    {
     "data": {
      "text/html": [
       "<div>\n",
       "<style scoped>\n",
       "    .dataframe tbody tr th:only-of-type {\n",
       "        vertical-align: middle;\n",
       "    }\n",
       "\n",
       "    .dataframe tbody tr th {\n",
       "        vertical-align: top;\n",
       "    }\n",
       "\n",
       "    .dataframe thead th {\n",
       "        text-align: right;\n",
       "    }\n",
       "</style>\n",
       "<table border=\"1\" class=\"dataframe\">\n",
       "  <thead>\n",
       "    <tr style=\"text-align: right;\">\n",
       "      <th></th>\n",
       "      <th>ID</th>\n",
       "      <th>Price</th>\n",
       "      <th>Levy</th>\n",
       "      <th>Manufacturer</th>\n",
       "      <th>Model</th>\n",
       "      <th>Prod. year</th>\n",
       "      <th>Category</th>\n",
       "      <th>Leather interior</th>\n",
       "      <th>Fuel type</th>\n",
       "      <th>Engine volume</th>\n",
       "      <th>Mileage</th>\n",
       "      <th>Cylinders</th>\n",
       "      <th>Gear box type</th>\n",
       "      <th>Drive wheels</th>\n",
       "      <th>Doors</th>\n",
       "      <th>Wheel</th>\n",
       "      <th>Color</th>\n",
       "      <th>Airbags</th>\n",
       "    </tr>\n",
       "  </thead>\n",
       "  <tbody>\n",
       "    <tr>\n",
       "      <th>0</th>\n",
       "      <td>45654403</td>\n",
       "      <td>13328</td>\n",
       "      <td>1399</td>\n",
       "      <td>LEXUS</td>\n",
       "      <td>RX 450</td>\n",
       "      <td>2010</td>\n",
       "      <td>Jeep</td>\n",
       "      <td>Yes</td>\n",
       "      <td>Hybrid</td>\n",
       "      <td>3.5</td>\n",
       "      <td>186005 km</td>\n",
       "      <td>6.0</td>\n",
       "      <td>Automatic</td>\n",
       "      <td>4x4</td>\n",
       "      <td>04-May</td>\n",
       "      <td>Left wheel</td>\n",
       "      <td>Silver</td>\n",
       "      <td>12</td>\n",
       "    </tr>\n",
       "  </tbody>\n",
       "</table>\n",
       "</div>"
      ],
      "text/plain": [
       "         ID  Price  Levy Manufacturer   Model  Prod. year Category  \\\n",
       "0  45654403  13328  1399        LEXUS  RX 450        2010     Jeep   \n",
       "\n",
       "  Leather interior Fuel type Engine volume    Mileage  Cylinders  \\\n",
       "0              Yes    Hybrid           3.5  186005 km        6.0   \n",
       "\n",
       "  Gear box type Drive wheels   Doors       Wheel   Color  Airbags  \n",
       "0     Automatic          4x4  04-May  Left wheel  Silver       12  "
      ]
     },
     "execution_count": 337,
     "metadata": {},
     "output_type": "execute_result"
    }
   ],
   "source": [
    "df.head(1)"
   ]
  },
  {
   "cell_type": "code",
   "execution_count": 338,
   "id": "3e232f1f-e22f-4ce8-9def-ce5f40a66f35",
   "metadata": {},
   "outputs": [
    {
     "data": {
      "text/plain": [
       "array(['LEXUS', 'CHEVROLET', 'HONDA', 'FORD', 'HYUNDAI', 'TOYOTA',\n",
       "       'MERCEDES-BENZ', 'OPEL', 'PORSCHE', 'BMW', 'JEEP', 'VOLKSWAGEN',\n",
       "       'AUDI', 'RENAULT', 'NISSAN', 'SUBARU', 'DAEWOO', 'KIA',\n",
       "       'MITSUBISHI', 'SSANGYONG', 'MAZDA', 'GMC', 'FIAT', 'INFINITI',\n",
       "       'ALFA ROMEO', 'SUZUKI', 'ACURA', 'LINCOLN', 'VAZ', 'GAZ',\n",
       "       'CITROEN', 'LAND ROVER', 'MINI', 'DODGE', 'CHRYSLER', 'JAGUAR',\n",
       "       'ISUZU', 'SKODA', 'DAIHATSU', 'BUICK', 'TESLA', 'CADILLAC',\n",
       "       'PEUGEOT', 'BENTLEY', 'VOLVO', 'სხვა', 'HAVAL', 'HUMMER', 'SCION',\n",
       "       'UAZ', 'MERCURY', 'ZAZ', 'ROVER', 'SEAT', 'LANCIA', 'MOSKVICH',\n",
       "       'MASERATI', 'FERRARI', 'SAAB', 'LAMBORGHINI', 'ROLLS-ROYCE',\n",
       "       'PONTIAC', 'SATURN', 'ASTON MARTIN', 'GREATWALL'], dtype=object)"
      ]
     },
     "execution_count": 338,
     "metadata": {},
     "output_type": "execute_result"
    }
   ],
   "source": [
    "df['Manufacturer'].unique()"
   ]
  },
  {
   "cell_type": "code",
   "execution_count": 339,
   "id": "17b46900-787f-4ad2-8eae-df654af65d98",
   "metadata": {},
   "outputs": [
    {
     "name": "stdout",
     "output_type": "stream",
     "text": [
      "ID :  18924\n",
      "Price :  2315\n",
      "Levy :  559\n",
      "Manufacturer :  65\n",
      "Model :  1590\n",
      "Prod. year :  54\n",
      "Category :  11\n",
      "Leather interior :  2\n",
      "Fuel type :  7\n",
      "Engine volume :  107\n",
      "Mileage :  7687\n",
      "Cylinders :  13\n",
      "Gear box type :  4\n",
      "Drive wheels :  3\n",
      "Doors :  3\n",
      "Wheel :  2\n",
      "Color :  16\n",
      "Airbags :  17\n"
     ]
    }
   ],
   "source": [
    "for col in df.columns:\n",
    "    print(col, \": \", df[col].nunique())"
   ]
  },
  {
   "cell_type": "code",
   "execution_count": 340,
   "id": "0460ddae-9e06-4d59-982b-a3d5f541f2b3",
   "metadata": {},
   "outputs": [
    {
     "data": {
      "image/png": "[encoded data removed]",
      "text/plain": [
       "<Figure size 1500x1000 with 6 Axes>"
      ]
     },
     "metadata": {},
     "output_type": "display_data"
    }
   ],
   "source": [
    "df.hist(bins=15, figsize=(15,10))\n",
    "plt.show()"
   ]
  },
  {
   "cell_type": "code",
   "execution_count": 341,
   "id": "41206b00-4ac7-4340-81b5-3032987332c4",
   "metadata": {},
   "outputs": [],
   "source": [
    "topcars = df['Manufacturer'].value_counts().sort_values(ascending = False)[:10]"
   ]
  },
  {
   "cell_type": "code",
   "execution_count": 342,
   "id": "f92f4069-c0ac-4e0f-8b67-9b4fcd4cc915",
   "metadata": {},
   "outputs": [
    {
     "data": {
      "text/plain": [
       "<Axes: xlabel='Manufacturer'>"
      ]
     },
     "execution_count": 342,
     "metadata": {},
     "output_type": "execute_result"
    },
    {
     "data": {
      "image/png": "[encoded data removed]",
      "text/plain": [
       "<Figure size 1000x500 with 1 Axes>"
      ]
     },
     "metadata": {},
     "output_type": "display_data"
    }
   ],
   "source": [
    "topcars.plot(figsize=(10, 5))"
   ]
  },
  {
   "cell_type": "code",
   "execution_count": 343,
   "id": "e63d25a4-94a8-467e-935c-0d1a9801133a",
   "metadata": {},
   "outputs": [
    {
     "ename": "SyntaxError",
     "evalue": "invalid syntax (2039420315.py, line 1)",
     "output_type": "error",
     "traceback": [
      "\u001b[1;36m  Cell \u001b[1;32mIn[343], line 1\u001b[1;36m\u001b[0m\n\u001b[1;33m    df['Manufacturer'] == i for i in list(topcars.index):\u001b[0m\n\u001b[1;37m                            ^\u001b[0m\n\u001b[1;31mSyntaxError\u001b[0m\u001b[1;31m:\u001b[0m invalid syntax\n"
     ]
    }
   ],
   "source": [
    "df['Manufacturer'] == i for i in list(topcars.index):\n",
    "    "
   ]
  },
  {
   "cell_type": "code",
   "execution_count": null,
   "id": "dcd206b8-6242-4332-9181-15ff6e1054fc",
   "metadata": {},
   "outputs": [],
   "source": [
    "df['Manufacturer'].info()"
   ]
  },
  {
   "cell_type": "code",
   "execution_count": null,
   "id": "ac353231-f816-4af0-9d46-f9cf273c7b4a",
   "metadata": {},
   "outputs": [],
   "source": [
    "average_prices = df.groupby('Manufacturer')['Price'].mean()"
   ]
  },
  {
   "cell_type": "code",
   "execution_count": null,
   "id": "41728d4c-9ab6-47c7-bafa-ceb07913d850",
   "metadata": {},
   "outputs": [],
   "source": [
    "average_prices[:10]"
   ]
  },
  {
   "cell_type": "code",
   "execution_count": null,
   "id": "2bddc048-bdef-4a42-a4b5-89aa7cf4b722",
   "metadata": {},
   "outputs": [],
   "source": [
    "numdata = df.select_dtypes(include=['number'])\n",
    "numdata.corr()"
   ]
  },
  {
   "cell_type": "code",
   "execution_count": null,
   "id": "eb8200c4-8df1-4b2b-92d8-371869491040",
   "metadata": {},
   "outputs": [],
   "source": [
    "sns.heatmap(numdata.corr(), annot= True, linewidth='0.1')\n",
    "plt.show()\n"
   ]
  },
  {
   "cell_type": "code",
   "execution_count": null,
   "id": "3a622e98-d262-4b04-bb84-351ac0c2d723",
   "metadata": {},
   "outputs": [],
   "source": [
    "strdata = df.select_dtypes(include = 'object')"
   ]
  },
  {
   "cell_type": "code",
   "execution_count": null,
   "id": "4d8f1e1e-32b5-4b53-998e-4b572fb5fe0c",
   "metadata": {},
   "outputs": [],
   "source": [
    "strdata.head(2)"
   ]
  },
  {
   "cell_type": "code",
   "execution_count": null,
   "id": "bb124bc3-4735-4af5-86f2-01f59b40587a",
   "metadata": {},
   "outputs": [],
   "source": [
    "for col in strdata:\n",
    "    plt.figure(figsize = (15,5))\n",
    "    top10 = strdata[col].value_counts()[:10]\n",
    "    colors= ['red', 'green','yellow','blue']\n",
    "    top10.plot(kind = 'bar', color= colors)\n",
    "   \n",
    "    plt.title('Top 10 '+col)\n"
   ]
  },
  {
   "cell_type": "markdown",
   "id": "25d2b49f-3201-40e3-ad1c-d795dfe7b77b",
   "metadata": {},
   "source": [
    "# Data Processing"
   ]
  },
  {
   "cell_type": "code",
   "execution_count": null,
   "id": "ff8e4b2f-3013-469a-b496-fb437ce79da2",
   "metadata": {},
   "outputs": [],
   "source": [
    "df"
   ]
  },
  {
   "cell_type": "code",
   "execution_count": null,
   "id": "8688120c-1ccb-42d6-a810-37ca22326f07",
   "metadata": {},
   "outputs": [],
   "source": [
    "df = df.drop(['Doors','ID'], axis =1)"
   ]
  },
  {
   "cell_type": "code",
   "execution_count": null,
   "id": "f7b4b6aa-e383-4ce7-88d5-45e0f2c54d19",
   "metadata": {},
   "outputs": [],
   "source": [
    "df"
   ]
  },
  {
   "cell_type": "code",
   "execution_count": null,
   "id": "49bbe224-d3f2-458c-9c09-6ed06c53db00",
   "metadata": {},
   "outputs": [],
   "source": [
    "import datetime\n",
    "date =datetime.datetime.now()"
   ]
  },
  {
   "cell_type": "code",
   "execution_count": null,
   "id": "c1526c2b-7228-497e-b909-1fb0ebd97a2a",
   "metadata": {},
   "outputs": [],
   "source": [
    "df['carage'] = date.year- df['Prod. year']\n",
    "carage"
   ]
  },
  {
   "cell_type": "code",
   "execution_count": null,
   "id": "fe72a590-fca8-450a-9b20-10200d29388e",
   "metadata": {},
   "outputs": [],
   "source": [
    "df.head()"
   ]
  },
  {
   "cell_type": "code",
   "execution_count": null,
   "id": "a434f59d-0f3b-4d7d-9cd9-9cf3cd3591b2",
   "metadata": {},
   "outputs": [],
   "source": [
    "df.info()"
   ]
  },
  {
   "cell_type": "code",
   "execution_count": null,
   "id": "6ecbc14e-a11a-4944-85c2-11c0299d3a5c",
   "metadata": {},
   "outputs": [],
   "source": [
    "df.Levy.replace({'-':'0'}, inplace = True)"
   ]
  },
  {
   "cell_type": "code",
   "execution_count": null,
   "id": "5145575d-42dc-4b7f-821f-d17214c9914f",
   "metadata": {},
   "outputs": [],
   "source": [
    "df.head(5)"
   ]
  },
  {
   "cell_type": "code",
   "execution_count": null,
   "id": "70b85adc-b9e5-4a8d-8af1-42b2165c9370",
   "metadata": {},
   "outputs": [],
   "source": [
    "df['Levy']=df['Levy'].astype(int)"
   ]
  },
  {
   "cell_type": "code",
   "execution_count": null,
   "id": "ab0437b7-f723-4ec8-a151-023dcc0d417d",
   "metadata": {},
   "outputs": [],
   "source": [
    "df['Mileage'] = df['Mileage'].str.replace('km','')"
   ]
  },
  {
   "cell_type": "code",
   "execution_count": null,
   "id": "362e42d2-9e27-429e-b966-e0a6ab3262c7",
   "metadata": {},
   "outputs": [],
   "source": [
    "df.head(10)"
   ]
  },
  {
   "cell_type": "code",
   "execution_count": null,
   "id": "94931c4a-b825-4622-8bf7-0f99c065cdce",
   "metadata": {},
   "outputs": [],
   "source": [
    "df['Engine volume'] = df['Engine volume'].str.replace('Turbo','')"
   ]
  },
  {
   "cell_type": "code",
   "execution_count": null,
   "id": "a301f0ac-f6a4-4b1b-9a5d-dd868259b3da",
   "metadata": {},
   "outputs": [],
   "source": [
    "df['Engine volume']=df['Engine volume'].astype(float)"
   ]
  },
  {
   "cell_type": "code",
   "execution_count": null,
   "id": "53db68ce-3c6c-4179-8870-6732cf4fce9d",
   "metadata": {},
   "outputs": [],
   "source": [
    "df.info()"
   ]
  },
  {
   "cell_type": "markdown",
   "id": "716ff30f-55e0-45da-a581-c0cc5b2cad7f",
   "metadata": {},
   "source": [
    "## Outliers"
   ]
  },
  {
   "cell_type": "code",
   "execution_count": null,
   "id": "4e78acac-f3e4-4868-bf71-6e9d51a36cc1",
   "metadata": {},
   "outputs": [],
   "source": [
    "sns.boxplot(df['Engine volume'])"
   ]
  },
  {
   "cell_type": "code",
   "execution_count": null,
   "id": "046fac26-d32f-4a50-b23c-9345d779fdbb",
   "metadata": {},
   "outputs": [],
   "source": [
    "df.describe()"
   ]
  },
  {
   "cell_type": "code",
   "execution_count": null,
   "id": "41404000-5476-40a6-8439-7c82134772be",
   "metadata": {},
   "outputs": [],
   "source": [
    "## finding outliers\n",
    "\n",
    "numdata = df.select_dtypes(exclude = 'object')\n",
    "\n",
    "for col in numdata :\n",
    "    q1=df[col].quantile(0.25)\n",
    "    q3=df[col].quantile(0.75)\n",
    "    iqr = q3 - q1\n",
    "    low = q1 - 1.5*iqr\n",
    "    high = q3 + 1.5*iqr\n",
    "\n",
    "    outlier = ((numdata[col]>high)|(numdata[col]<low)).sum()\n",
    "    nudata = numdata[col].shape[0]\n",
    "    z=  round((outlier/nudata)*100,2)\n",
    "    print ('The total outliers in ', col,'are :',outlier,'-', z,'%' )\n",
    "    if outlier>0:\n",
    "        df = df.loc[(df[col]<=high) & (df[col]>=low)]"
   ]
  },
  {
   "cell_type": "code",
   "execution_count": null,
   "id": "9a171b37-05b6-4055-8004-c4eb503aab54",
   "metadata": {},
   "outputs": [],
   "source": [
    "df.info()"
   ]
  },
  {
   "cell_type": "code",
   "execution_count": null,
   "id": "3d0e8433-6022-4225-b266-e6949b65e327",
   "metadata": {},
   "outputs": [],
   "source": [
    "df['Levy']=df['Levy'].astype(float)\n",
    "df['Manufacturer']=df['Manufacturer'].astype(float)\n",
    "df['Model']=df['Model'].astype(float)\n",
    "df['Category']=df['Category'].astype(float)\n",
    "df['Leather interior']=df['Leather interior'].astype(float)\n",
    "df['Fuel type']=df['Fuel type'].astype(float)\n",
    "df['Engine volume']=df['Engine volume'].astype(float)\n",
    "df['Mileage']=df['Mileage'].astype(float)\n",
    "df['Gear box type']=df['Gear box type'].astype(float)\n",
    "df['Drive wheels']=df['Drive wheels'].astype(float)\n",
    "df['Doors']=df['Doors'].astype(float)\n",
    "df['Wheel']=df['Wheel'].astype(float)\n",
    "df['Color']=df['Color'].astype(float)"
   ]
  },
  {
   "cell_type": "markdown",
   "id": "85ae2828-eeaf-4248-ace6-3c2063976c69",
   "metadata": {},
   "source": [
    "# Transforming str to numeric"
   ]
  },
  {
   "cell_type": "code",
   "execution_count": null,
   "id": "b2b4b15d-d2bf-4318-bd57-167a3396d354",
   "metadata": {},
   "outputs": [],
   "source": [
    "object = df.select_dtypes(include = 'object')\n",
    "notobject = df.select_dtypes(exclude = 'object')\n",
    "\n",
    "#calling labelencoder\n",
    "from sklearn.preprocessing import LabelEncoder"
   ]
  },
  {
   "cell_type": "code",
   "execution_count": null,
   "id": "c765eed1-e377-4f81-a905-a11ef2d4c60d",
   "metadata": {},
   "outputs": [],
   "source": [
    "le = LabelEncoder()"
   ]
  },
  {
   "cell_type": "code",
   "execution_count": null,
   "id": "d57f3d9c-02ed-41af-b981-1c968e9328ca",
   "metadata": {},
   "outputs": [],
   "source": [
    "for i in range(0,object.shape[1]):\n",
    "    object.iloc[:,i] = le.fit_transform(object.iloc[:,i])"
   ]
  },
  {
   "cell_type": "code",
   "execution_count": null,
   "id": "b0be7076-6b80-4434-8800-e65b78b0350a",
   "metadata": {},
   "outputs": [],
   "source": [
    "df = pd.concat([object,notobject], axis = 1)"
   ]
  },
  {
   "cell_type": "code",
   "execution_count": null,
   "id": "57a0d5d1-6e89-414a-933d-fb88f9523612",
   "metadata": {},
   "outputs": [],
   "source": [
    "df.info()"
   ]
  },
  {
   "cell_type": "markdown",
   "id": "6c1158e8-972f-4308-b974-b5344095f8b8",
   "metadata": {},
   "source": [
    "# Model building"
   ]
  },
  {
   "cell_type": "code",
   "execution_count": null,
   "id": "d37cdc16-f824-4c72-b0fd-bfb8c9d6b8a3",
   "metadata": {},
   "outputs": [],
   "source": [
    "x = df.drop(columns=['Price'])\n"
   ]
  },
  {
   "cell_type": "code",
   "execution_count": null,
   "id": "00582508-10e4-4a23-b8d0-2440d1aceef7",
   "metadata": {},
   "outputs": [],
   "source": [
    "y = df['Price']"
   ]
  },
  {
   "cell_type": "code",
   "execution_count": null,
   "id": "3cd71081-4694-4307-9bd2-f4c1d2ebf372",
   "metadata": {},
   "outputs": [],
   "source": [
    "from sklearn.model_selection import train_test_split\n",
    "x_train, x_test, y_train, y_test = train_test_split(x,y, test_size=0.2, random_state = 20)"
   ]
  },
  {
   "cell_type": "code",
   "execution_count": null,
   "id": "d20c9214-d197-4490-aaf2-e80d2c4ad495",
   "metadata": {},
   "outputs": [],
   "source": [
    "\n",
    "pip install xgboost\n"
   ]
  },
  {
   "cell_type": "code",
   "execution_count": null,
   "id": "bcd8a77f-b5cd-4462-9e1a-5748feb525e2",
   "metadata": {},
   "outputs": [],
   "source": [
    "# needed imports\n",
    "\n",
    "from sklearn.linear_model import LinearRegression\n",
    "from xgboost import XGBRegressor\n",
    "from sklearn.tree import DecisionTreeRegressor\n",
    "from sklearn.ensemble import RandomForestRegressor\n",
    "from sklearn.ensemble import GradientBoostingRegressor\n",
    "from sklearn.svm import SVR\n",
    "\n",
    "from sklearn.metrics import accuracy_score, recall_score, f1_score, mean_squared_error, r2_score\n"
   ]
  },
  {
   "cell_type": "code",
   "execution_count": 368,
   "id": "930f6041-8a54-400f-8f3c-e0dbce030d27",
   "metadata": {},
   "outputs": [],
   "source": [
    "Algorithm = [ 'LinearRegression', 'XGBRegressor', 'DecisionTreeRegressor', 'RandomForestRegressor', 'GradientBoostingRegressor', 'SVR']\n",
    "R_2= []\n",
    "RM_SE =[]"
   ]
  },
  {
   "cell_type": "code",
   "execution_count": 370,
   "id": "22ef4bcf-0b55-4585-89b9-2480a3e7b7c5",
   "metadata": {},
   "outputs": [],
   "source": [
    "def mod(y):\n",
    "    y.fit(x_train,y_train)\n",
    "    pre = y.predict(x_test)\n",
    "    r2 = r2_score(y_test, pre)\n",
    "    rmse= np.sqrt(mean_squared_error(y_test, pre))\n",
    "    R_2.append(r2)\n",
    "    RM_SE.append(rmse)\n",
    "    score = y.score(x_test,y_test)\n",
    "    print('the score of model: ', score)"
   ]
  },
  {
   "cell_type": "code",
   "execution_count": null,
   "id": "42bc13c3-31bb-4c97-92e6-c63b34da2dba",
   "metadata": {},
   "outputs": [],
   "source": []
  },
  {
   "cell_type": "code",
   "execution_count": 373,
   "id": "f1390825-e7a6-48fe-a022-3ea980d46688",
   "metadata": {},
   "outputs": [],
   "source": [
    "a = LinearRegression()\n",
    "b= XGBRegressor()\n",
    "c=DecisionTreeRegressor()\n",
    "d=RandomForestRegressor()\n",
    "e= GradientBoostingRegressor()\n",
    "f = SVR()\n"
   ]
  },
  {
   "cell_type": "code",
   "execution_count": 375,
   "id": "4060cb78-4fdb-4d67-8933-5d851156cbde",
   "metadata": {},
   "outputs": [
    {
     "name": "stdout",
     "output_type": "stream",
     "text": [
      "the score of model:  0.2467401496270204\n",
      "the score of model:  0.8103367117666049\n",
      "the score of model:  0.659982603079105\n",
      "the score of model:  0.8112774743769733\n",
      "the score of model:  0.702756647486867\n",
      "the score of model:  -0.030656757818329883\n"
     ]
    }
   ],
   "source": [
    "mod(a)\n",
    "mod(b)\n",
    "mod(c)\n",
    "mod(d)\n",
    "mod(e)\n",
    "mod(f)"
   ]
  },
  {
   "cell_type": "code",
   "execution_count": 377,
   "id": "c67b6639-c42d-4252-bfd5-69a7039e79a7",
   "metadata": {},
   "outputs": [],
   "source": [
    "models_scores = pd.DataFrame({'Algorithms':Algorithm ,'R2_Score':R_2 ,'RMSE': RM_SE})"
   ]
  },
  {
   "cell_type": "code",
   "execution_count": 379,
   "id": "c53429b3-c1d0-40b4-8cfd-40f4ebc77eee",
   "metadata": {},
   "outputs": [
    {
     "data": {
      "text/html": [
       "<div>\n",
       "<style scoped>\n",
       "    .dataframe tbody tr th:only-of-type {\n",
       "        vertical-align: middle;\n",
       "    }\n",
       "\n",
       "    .dataframe tbody tr th {\n",
       "        vertical-align: top;\n",
       "    }\n",
       "\n",
       "    .dataframe thead th {\n",
       "        text-align: right;\n",
       "    }\n",
       "</style>\n",
       "<table border=\"1\" class=\"dataframe\">\n",
       "  <thead>\n",
       "    <tr style=\"text-align: right;\">\n",
       "      <th></th>\n",
       "      <th>Algorithms</th>\n",
       "      <th>R2_Score</th>\n",
       "      <th>RMSE</th>\n",
       "    </tr>\n",
       "  </thead>\n",
       "  <tbody>\n",
       "    <tr>\n",
       "      <th>0</th>\n",
       "      <td>LinearRegression</td>\n",
       "      <td>0.246740</td>\n",
       "      <td>10102.902652</td>\n",
       "    </tr>\n",
       "    <tr>\n",
       "      <th>1</th>\n",
       "      <td>XGBRegressor</td>\n",
       "      <td>0.810337</td>\n",
       "      <td>5069.503140</td>\n",
       "    </tr>\n",
       "    <tr>\n",
       "      <th>2</th>\n",
       "      <td>DecisionTreeRegressor</td>\n",
       "      <td>0.659983</td>\n",
       "      <td>6787.726387</td>\n",
       "    </tr>\n",
       "    <tr>\n",
       "      <th>3</th>\n",
       "      <td>RandomForestRegressor</td>\n",
       "      <td>0.811277</td>\n",
       "      <td>5056.914705</td>\n",
       "    </tr>\n",
       "    <tr>\n",
       "      <th>4</th>\n",
       "      <td>GradientBoostingRegressor</td>\n",
       "      <td>0.702757</td>\n",
       "      <td>6346.434964</td>\n",
       "    </tr>\n",
       "    <tr>\n",
       "      <th>5</th>\n",
       "      <td>SVR</td>\n",
       "      <td>-0.030657</td>\n",
       "      <td>11817.640819</td>\n",
       "    </tr>\n",
       "  </tbody>\n",
       "</table>\n",
       "</div>"
      ],
      "text/plain": [
       "                  Algorithms  R2_Score          RMSE\n",
       "0           LinearRegression  0.246740  10102.902652\n",
       "1               XGBRegressor  0.810337   5069.503140\n",
       "2      DecisionTreeRegressor  0.659983   6787.726387\n",
       "3      RandomForestRegressor  0.811277   5056.914705\n",
       "4  GradientBoostingRegressor  0.702757   6346.434964\n",
       "5                        SVR -0.030657  11817.640819"
      ]
     },
     "execution_count": 379,
     "metadata": {},
     "output_type": "execute_result"
    }
   ],
   "source": [
    "models_scores"
   ]
  },
  {
   "cell_type": "code",
   "execution_count": 397,
   "id": "1093fccf-d206-4eac-8b40-72541c801e3a",
   "metadata": {},
   "outputs": [
    {
     "data": {
      "text/plain": [
       "[<matplotlib.lines.Line2D at 0x2454315fec0>]"
      ]
     },
     "execution_count": 397,
     "metadata": {},
     "output_type": "execute_result"
    },
    {
     "data": {
      "image/png": "[encoded data removed]",
      "text/plain": [
       "<Figure size 640x480 with 1 Axes>"
      ]
     },
     "metadata": {},
     "output_type": "display_data"
    }
   ],
   "source": [
    "\n",
    "plt.plot(models_scores.Algorithms,models_scores.R2_Score)"
   ]
  },
  {
   "cell_type": "code",
   "execution_count": 399,
   "id": "f02a55ca-6562-4258-81ff-4ca8c7aba6ba",
   "metadata": {},
   "outputs": [],
   "source": [
    "import pickle "
   ]
  },
  {
   "cell_type": "code",
   "execution_count": 403,
   "id": "611b3a10-2bae-4efe-8785-f9a5b9b4c20f",
   "metadata": {},
   "outputs": [],
   "source": [
    "filename = 'Carprediction.sav'"
   ]
  },
  {
   "cell_type": "code",
   "execution_count": 405,
   "id": "68fac784-6862-4ca2-8356-856f3471b02f",
   "metadata": {},
   "outputs": [],
   "source": [
    "pickle.dump(c,open(filename,'wb'))"
   ]
  },
  {
   "cell_type": "code",
   "execution_count": null,
   "id": "9956f462-3bf5-4a49-8ab9-62bebfe78d27",
   "metadata": {},
   "outputs": [],
   "source": []
  }
 ],
 "metadata": {
  "kernelspec": {
   "display_name": "Python 3 (ipykernel)",
   "language": "python",
   "name": "python3"
  },
  "language_info": {
   "codemirror_mode": {
    "name": "ipython",
    "version": 3
   },
   "file_extension": ".py",
   "mimetype": "text/x-python",
   "name": "python",
   "nbconvert_exporter": "python",
   "pygments_lexer": "ipython3",
   "version": "3.12.4"
  }
 },
 "nbformat": 4,
 "nbformat_minor": 5
}
